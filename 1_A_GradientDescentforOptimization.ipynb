{
  "nbformat": 4,
  "nbformat_minor": 0,
  "metadata": {
    "colab": {
      "name": "AI4IA_assihnment1-part1.ipynb",
      "provenance": [],
      "authorship_tag": "ABX9TyOhGB3Rr1BquwZ4wn/IuNh3",
      "include_colab_link": true
    },
    "kernelspec": {
      "name": "python3",
      "display_name": "Python 3"
    },
    "language_info": {
      "name": "python"
    }
  },
  "cells": [
    {
      "cell_type": "markdown",
      "metadata": {
        "id": "view-in-github",
        "colab_type": "text"
      },
      "source": [
        "<a href=\"https://colab.research.google.com/github/mitrarokni2019/AI4IA/blob/main/AI4IA_assihnment1_part1.ipynb\" target=\"_parent\"><img src=\"https://colab.research.google.com/assets/colab-badge.svg\" alt=\"Open In Colab\"/></a>"
      ]
    },
    {
      "cell_type": "code",
      "metadata": {
        "id": "ffxg80P7CueV"
      },
      "source": [
        "# B.7\n",
        "import numpy as np"
      ],
      "execution_count": 1,
      "outputs": []
    },
    {
      "cell_type": "code",
      "metadata": {
        "colab": {
          "base_uri": "https://localhost:8080/",
          "height": 279
        },
        "id": "tleVpslkC89x",
        "outputId": "2ff7806b-6008-48ae-8da5-9d1463b064e2"
      },
      "source": [
        "# B.9 part(b)\n",
        "import matplotlib.pyplot as plt\n",
        "import numpy as np\n",
        "\n",
        "# 1000 linearly spaced numbers\n",
        "x = np.linspace(0,6,1000)\n",
        "\n",
        "# the function, which is y = e^x here\n",
        "y = np.exp(-(x-3.14)**2)*(-1)\n",
        "\n",
        "# setting the axes at the centre\n",
        "fig = plt.figure()\n",
        "ax = fig.add_subplot(1, 1, 1)\n",
        "# plot the function\n",
        "plt.plot(x,y, 'y', label='y=e^(-(x-3.14)^2)')\n",
        "plt.legend(loc='lower left')\n",
        "plt.xlabel(\"X \")\n",
        "plt.ylabel(\"Y\")\n",
        "\n",
        "# show the plot\n",
        "plt.show()"
      ],
      "execution_count": 2,
      "outputs": [
        {
          "output_type": "display_data",
          "data": {
            "image/png": "[encoded data removed]",
            "text/plain": [
              "<Figure size 432x288 with 1 Axes>"
            ]
          },
          "metadata": {
            "needs_background": "light"
          }
        }
      ]
    },
    {
      "cell_type": "code",
      "metadata": {
        "colab": {
          "base_uri": "https://localhost:8080/",
          "height": 265
        },
        "id": "zpt6c6AxDMLP",
        "outputId": "5533ac67-61ee-4d3f-cb60-8dbf3fb2a760"
      },
      "source": [
        "# B.9 part(b)//second code \n",
        "# plot of simple function\n",
        "import numpy as np \n",
        "from numpy import arange\n",
        "from matplotlib import pyplot\n",
        " \n",
        "# objective function\n",
        "def f(x):\n",
        "    return np.exp(-(x-3.14)**2)*(-1)\n",
        " \n",
        "# define range for input\n",
        "r_min, r_max =0, 6.0\n",
        "# sample input range uniformly at 0.1 increments\n",
        "inputs = arange(r_min, r_max+0.1, 0.1)\n",
        "# compute targets\n",
        "results = f(inputs)\n",
        "# create a line plot of input vs result\n",
        "pyplot.plot(inputs, results)\n",
        "# show the plot\n",
        "pyplot.show()"
      ],
      "execution_count": null,
      "outputs": [
        {
          "output_type": "display_data",
          "data": {
            "image/png": "[encoded data removed]",
            "text/plain": [
              "<Figure size 432x288 with 1 Axes>"
            ]
          },
          "metadata": {
            "needs_background": "light"
          }
        }
      ]
    },
    {
      "cell_type": "code",
      "metadata": {
        "colab": {
          "base_uri": "https://localhost:8080/"
        },
        "id": "VFpKxBWh9fn0",
        "outputId": "cc7c4868-2ac4-4216-ce1c-4c323c4b55ce"
      },
      "source": [
        "# B.8 part(c)\n",
        "def f(x):\n",
        "    return np.exp(-(x-3.14)**2)\n",
        "def derivative(x):\n",
        "    return np.exp(-(x-3.14)**2)*(2*x-3.14)\n",
        "x0= 3\n",
        "iter=200\n",
        "step_size=0.0001\n",
        "for i in range (iter):\n",
        "  gradient = derivative(x0)\n",
        "  #print(\"ggg\", gradient)\n",
        "  x0= x0 - step_size * gradient\n",
        "  \n",
        "   \n",
        "print (x0, f(x0)) \n",
        "\n",
        "  \n"
      ],
      "execution_count": null,
      "outputs": [
        {
          "output_type": "stream",
          "name": "stdout",
          "text": [
            "2.945455653066268 0.9628597629945219\n"
          ]
        }
      ]
    },
    {
      "cell_type": "code",
      "metadata": {
        "id": "tpMzBG_XEK85",
        "colab": {
          "base_uri": "https://localhost:8080/",
          "height": 1000
        },
        "outputId": "e5e214f5-c70f-4e93-ab54-abd8d2c9393f"
      },
      "source": [
        "# B.9 part(d)\n",
        "from numpy import asarray\n",
        "from numpy import arange\n",
        "from numpy.random import rand\n",
        "import matplotlib.pyplot as plt\n",
        " \n",
        "# objective function\n",
        "def objective(x):\n",
        "    return np.exp(-(x-3.14)**2)*(-1)\n",
        " \n",
        "# derivative of objective function\n",
        "def derivative(x):\n",
        "    return np.exp(-(x-3.14)**2)*(2*(x-3.14))\n",
        "\n",
        "trajectory_x = []\n",
        "trajectory_fx = []\n",
        " \n",
        "# gradient descent algorithm\n",
        "def gradient_descent(objective, derivative, x0, n_iter, step_size):\n",
        "    # run the gradient descent\n",
        "    for i in range(n_iter):\n",
        "        # calculate gradient\n",
        "        gradient = derivative(x0)\n",
        "        # take a step\n",
        "        if gradient ==0:\n",
        "          return objective(x0)\n",
        "        else:\n",
        "          x0= x0 - step_size * gradient\n",
        "        \n",
        "        solution_eval = objective(x0)\n",
        "        trajectory_x .append(x0)\n",
        "        trajectory_fx.append(solution_eval)\n",
        "        # report progress\n",
        "        print('>%d f(%s) = %.5f' % (i, x0, solution_eval))\n",
        "    return [trajectory_x, trajectory_fx]\n",
        " \n",
        "\n",
        "x0=3 # define range for input\n",
        "n_iter = 100                # define the total iterations\n",
        "step_size = 0.1             # define the step size\n",
        "gradient_descent(objective, derivative, x0, n_iter, step_size)\n",
        "plt.figure()\n",
        "xx=np.linspace(2,4,100)\n",
        "yy=objective(xx)\n",
        "plt.plot(xx,yy,'b')\n",
        "# plot the solutions found\n",
        "plt.plot(trajectory_x, trajectory_fx, '.-', color='red')\n",
        "\n",
        "plt.show()  # show the plot\n",
        "\n",
        "\n",
        "\n"
      ],
      "execution_count": null,
      "outputs": [
        {
          "output_type": "stream",
          "name": "stdout",
          "text": [
            ">0 f(3.027456543273668) = -0.98741\n",
            ">1 f(3.0496819367837262) = -0.99188\n",
            ">2 f(3.0675987975376637) = -0.99477\n",
            ">3 f(3.082003332159403) = -0.99664\n",
            ">4 f(3.0935637155960833) = -0.99785\n",
            ">5 f(3.102830967676294) = -0.99862\n",
            ">6 f(3.1102545111536024) = -0.99912\n",
            ">7 f(3.116198347524206) = -0.99943\n",
            ">8 f(3.120955981967063) = -0.99964\n",
            ">9 f(3.1247634044677004) = -0.99977\n",
            ">10 f(3.1278100162094296) = -0.99985\n",
            ">11 f(3.130247650718612) = -0.99990\n",
            ">12 f(3.1321979350778064) = -0.99994\n",
            ">13 f(3.133758253079338) = -0.99996\n",
            ">14 f(3.135006553829469) = -0.99998\n",
            ">15 f(3.1360052181620643) = -0.99998\n",
            ">16 f(3.136804161779782) = -0.99999\n",
            ">17 f(3.1374433228957956) = -0.99999\n",
            ">18 f(3.1379546549742536) = -1.00000\n",
            ">19 f(3.1383637222680925) = -1.00000\n",
            ">20 f(3.1386909769382796) = -1.00000\n",
            ">21 f(3.1389527811020113) = -1.00000\n",
            ">22 f(3.139162224651919) = -1.00000\n",
            ">23 f(3.139329779603934) = -1.00000\n",
            ">24 f(3.1394638236229353) = -1.00000\n",
            ">25 f(3.13957105886752) = -1.00000\n",
            ">26 f(3.1396568470782316) = -1.00000\n",
            ">27 f(3.139725477654504) = -1.00000\n",
            ">28 f(3.1397803821194654) = -1.00000\n",
            ">29 f(3.139824305693454) = -1.00000\n",
            ">30 f(3.1398594445536787) = -1.00000\n",
            ">31 f(3.1398875556423875) = -1.00000\n",
            ">32 f(3.1399100445136257) = -1.00000\n",
            ">33 f(3.139928035610755) = -1.00000\n",
            ">34 f(3.1399424284885296) = -1.00000\n",
            ">35 f(3.1399539427907857) = -1.00000\n",
            ">36 f(3.139963154232609) = -1.00000\n",
            ">37 f(3.1399705233860775) = -1.00000\n",
            ">38 f(3.139976418708857) = -1.00000\n",
            ">39 f(3.139981134967083) = -1.00000\n",
            ">40 f(3.1399849079736653) = -1.00000\n",
            ">41 f(3.1399879263789314) = -1.00000\n",
            ">42 f(3.139990341103145) = -1.00000\n",
            ">43 f(3.1399922728825156) = -1.00000\n",
            ">44 f(3.1399938183060123) = -1.00000\n",
            ">45 f(3.13999505464481) = -1.00000\n",
            ">46 f(3.139996043715848) = -1.00000\n",
            ">47 f(3.139996834972678) = -1.00000\n",
            ">48 f(3.1399974679781426) = -1.00000\n",
            ">49 f(3.139997974382514) = -1.00000\n",
            ">50 f(3.1399983795060114) = -1.00000\n",
            ">51 f(3.139998703604809) = -1.00000\n",
            ">52 f(3.139998962883847) = -1.00000\n",
            ">53 f(3.1399991703070778) = -1.00000\n",
            ">54 f(3.1399993362456624) = -1.00000\n",
            ">55 f(3.13999946899653) = -1.00000\n",
            ">56 f(3.139999575197224) = -1.00000\n",
            ">57 f(3.139999660157779) = -1.00000\n",
            ">58 f(3.1399997281262233) = -1.00000\n",
            ">59 f(3.1399997825009787) = -1.00000\n",
            ">60 f(3.139999826000783) = -1.00000\n",
            ">61 f(3.1399998608006263) = -1.00000\n",
            ">62 f(3.139999888640501) = -1.00000\n",
            ">63 f(3.139999910912401) = -1.00000\n",
            ">64 f(3.139999928729921) = -1.00000\n",
            ">65 f(3.1399999429839367) = -1.00000\n",
            ">66 f(3.1399999543871493) = -1.00000\n",
            ">67 f(3.1399999635097195) = -1.00000\n",
            ">68 f(3.1399999708077755) = -1.00000\n",
            ">69 f(3.1399999766462203) = -1.00000\n",
            ">70 f(3.139999981316976) = -1.00000\n",
            ">71 f(3.139999985053581) = -1.00000\n",
            ">72 f(3.139999988042865) = -1.00000\n",
            ">73 f(3.139999990434292) = -1.00000\n",
            ">74 f(3.1399999923474335) = -1.00000\n",
            ">75 f(3.139999993877947) = -1.00000\n",
            ">76 f(3.139999995102358) = -1.00000\n",
            ">77 f(3.1399999960818863) = -1.00000\n",
            ">78 f(3.1399999968655092) = -1.00000\n",
            ">79 f(3.1399999974924073) = -1.00000\n",
            ">80 f(3.1399999979939257) = -1.00000\n",
            ">81 f(3.1399999983951408) = -1.00000\n",
            ">82 f(3.1399999987161125) = -1.00000\n",
            ">83 f(3.13999999897289) = -1.00000\n",
            ">84 f(3.139999999178312) = -1.00000\n",
            ">85 f(3.1399999993426495) = -1.00000\n",
            ">86 f(3.1399999994741195) = -1.00000\n",
            ">87 f(3.1399999995792958) = -1.00000\n",
            ">88 f(3.1399999996634365) = -1.00000\n",
            ">89 f(3.1399999997307493) = -1.00000\n",
            ">90 f(3.1399999997845995) = -1.00000\n",
            ">91 f(3.1399999998276797) = -1.00000\n",
            ">92 f(3.1399999998621437) = -1.00000\n",
            ">93 f(3.139999999889715) = -1.00000\n",
            ">94 f(3.139999999911772) = -1.00000\n",
            ">95 f(3.1399999999294175) = -1.00000\n",
            ">96 f(3.139999999943534) = -1.00000\n",
            ">97 f(3.1399999999548274) = -1.00000\n",
            ">98 f(3.139999999963862) = -1.00000\n",
            ">99 f(3.1399999999710895) = -1.00000\n"
          ]
        },
        {
          "output_type": "display_data",
          "data": {
            "image/png": "[encoded data removed]",
            "text/plain": [
              "<Figure size 432x288 with 1 Axes>"
            ]
          },
          "metadata": {
            "needs_background": "light"
          }
        }
      ]
    },
    {
      "cell_type": "code",
      "metadata": {
        "colab": {
          "base_uri": "https://localhost:8080/"
        },
        "id": "qgGYFIOAtKJS",
        "outputId": "a8444255-1f8e-431f-b3c6-7e3a6c8c0784"
      },
      "source": [
        "# B.9\n",
        "import numpy as np\n",
        "def surf(r):\n",
        "\treturn 2* (np.pi*r**2) + (355/r)\n",
        "\n",
        "def surf_derive(r):\n",
        "\treturn  4.0* (np.pi*r) - (355/(r**2))\n",
        "\n",
        " \n",
        "trajectory_r=[]\n",
        "trajectory_fr=[]\n",
        "def gradient_descent(surf, surf_derive, r0, n_iter, step_size):\n",
        "  for i in range(n_iter):\n",
        "    while r0>=0:\n",
        "      gradient = surf_derive(r0) # calculate gradient\n",
        "      r0= r0 - step_size * gradient\n",
        "      solution_eval = surf(r0)\n",
        "      trajectory_r .append(r0)\n",
        "      trajectory_fr.append(solution_eval)\n",
        "      # report progress\n",
        "      print('>%d f(%s) = %.5f' % (i, r0, solution_eval))\n",
        "  return [trajectory_r, trajectory_fr]\n",
        " \n",
        "\n",
        "r0=3 # define range for input\n",
        "n_iter = 50               # define the total iterations\n",
        "step_size = 0.1             # define the step size\n",
        "gradient_descent(surf, surf_derive, r0, n_iter, step_size)\n",
        "\n"
      ],
      "execution_count": null,
      "outputs": [
        {
          "output_type": "stream",
          "name": "stdout",
          "text": [
            ">0 f(3.1745332601366925) = 175.14728\n",
            ">0 f(2.7079397696990446) = 177.17018\n",
            ">0 f(4.146212503415759) = 193.63504\n",
            ">0 f(1.0009528520863515) = 360.95722\n",
            ">0 f(35.17556247480877) = 7784.40431\n",
            ">0 f(-8.998661950492505) = 469.33638\n"
          ]
        },
        {
          "output_type": "execute_result",
          "data": {
            "text/plain": [
              "[[3.1745332601366925,\n",
              "  2.7079397696990446,\n",
              "  4.146212503415759,\n",
              "  1.0009528520863515,\n",
              "  35.17556247480877,\n",
              "  -8.998661950492505],\n",
              " [175.14727694565872,\n",
              "  177.17018041390847,\n",
              "  193.63503951178922,\n",
              "  360.9572244209514,\n",
              "  7784.404305918919,\n",
              "  469.33638168922744]]"
            ]
          },
          "metadata": {},
          "execution_count": 81
        }
      ]
    },
    {
      "cell_type": "code",
      "metadata": {
        "id": "QwGbJl9T-q51"
      },
      "source": [
        "# C.1\n",
        "import numpy as np\n",
        "def gra(f,a,delta):\n",
        "  list = []\n",
        "  xderivative = 0\n",
        "  for i in a:\n",
        "    xdelta = x.copy()\n",
        "    xdelta[i] = xi + dela\n",
        "    derivatives.append(((f(xdelta)-f(x)/delta)))\n",
        "  return derivatives\n",
        "\n"
      ],
      "execution_count": null,
      "outputs": []
    },
    {
      "cell_type": "code",
      "metadata": {
        "id": "H6-JUgpHaxPZ",
        "colab": {
          "base_uri": "https://localhost:8080/"
        },
        "outputId": "7a36c0cd-7ce4-45e1-a129-940d4cfb65eb"
      },
      "source": [
        "# C.2\n",
        "def derivative(func, a,delta):\n",
        "    r1=(func(a[0]+delta, a[1])-func(a[0],a[1]))/delta\n",
        "    r2=(func(a[0], a[1]+delta)-func(a[0],a[1]))/delta \n",
        "    return (r1,r2)\n",
        "    \n",
        "    \n",
        "\n",
        "def func(x,y):\n",
        "    return (x-2)**2 + (y-2)**2\n",
        "\n",
        "derivative(func, [1,1],0.000001)"
      ],
      "execution_count": null,
      "outputs": [
        {
          "output_type": "execute_result",
          "data": {
            "text/plain": [
              "(-1.9999989997465661, -1.9999989997465661)"
            ]
          },
          "metadata": {},
          "execution_count": 25
        }
      ]
    },
    {
      "cell_type": "code",
      "metadata": {
        "id": "jXW_zxQjjil8"
      },
      "source": [
        "# C.3\n",
        "def fc_3(v1,v2,w1,w2,b1,b2, x):\n",
        "    return v1*(w1*x+b1)+v2*(w2*x+b2)\n",
        "\n",
        "def fc_3_diff(v1,v2,w1,w2,b1,b2, x):\n",
        "  \n",
        "\n"
      ],
      "execution_count": null,
      "outputs": []
    },
    {
      "cell_type": "code",
      "metadata": {
        "colab": {
          "base_uri": "https://localhost:8080/"
        },
        "id": "5omJ_W5QVmpL",
        "outputId": "e83060a0-c170-46bb-8647-8f7c0df8b848"
      },
      "source": [
        "# C.4\n",
        "import numpy as np \n",
        "def fi(z):\n",
        "    return 1/(1+np.exp(-z))\n",
        "\n",
        "def fi_deriv(z):\n",
        "    return fi(z)+(1-fi(z))\n",
        "\n",
        "\n",
        "def fc_4(v1,v2,w1,w2,b1,b2,x):\n",
        "    return fi(v1*fi(w1*x+b1))+v2*(fi(w2*x+b2))\n",
        "fc_4(1,2,1,2,3,4,3)\n",
        "\n",
        "\n",
        "\n"
      ],
      "execution_count": null,
      "outputs": [
        {
          "output_type": "execute_result",
          "data": {
            "text/plain": [
              "2.730481358016779"
            ]
          },
          "metadata": {},
          "execution_count": 28
        }
      ]
    }
  ]
}